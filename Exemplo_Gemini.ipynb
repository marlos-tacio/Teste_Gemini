{
  "nbformat": 4,
  "nbformat_minor": 0,
  "metadata": {
    "colab": {
      "provenance": [],
      "authorship_tag": "ABX9TyO/lnaKbRz2rPruiU5ntd/V",
      "include_colab_link": true
    },
    "kernelspec": {
      "name": "python3",
      "display_name": "Python 3"
    },
    "language_info": {
      "name": "python"
    }
  },
  "cells": [
    {
      "cell_type": "markdown",
      "metadata": {
        "id": "view-in-github",
        "colab_type": "text"
      },
      "source": [
        "<a href=\"https://colab.research.google.com/github/marlos-tacio/Teste_Gemini/blob/main/Exemplo_Gemini.ipynb\" target=\"_parent\"><img src=\"https://colab.research.google.com/assets/colab-badge.svg\" alt=\"Open In Colab\"/></a>"
      ]
    },
    {
      "cell_type": "markdown",
      "source": [
        "Instalando o SDK do Google"
      ],
      "metadata": {
        "id": "e0oXA9EJjdE2"
      }
    },
    {
      "cell_type": "code",
      "execution_count": null,
      "metadata": {
        "id": "hsd-p8d6jb-Q"
      },
      "outputs": [],
      "source": [
        "!pip install -q -U google-generativeai"
      ]
    },
    {
      "cell_type": "markdown",
      "source": [
        "\n",
        "---\n",
        "\n",
        "Importando e configurando GEMINI"
      ],
      "metadata": {
        "id": "U7V9mQdujn0G"
      }
    },
    {
      "cell_type": "code",
      "source": [
        "import google.generativeai as genai\n",
        "from google.colab import userdata\n",
        "\n",
        "genai.configure(api_key = userdata.get('API-KEY'))"
      ],
      "metadata": {
        "id": "K0L9pV8yjtyA"
      },
      "execution_count": 19,
      "outputs": []
    },
    {
      "cell_type": "markdown",
      "source": [
        "---\n",
        "\n",
        "Listando os modelos disponíveis"
      ],
      "metadata": {
        "id": "yJWShxrwkCxV"
      }
    },
    {
      "cell_type": "code",
      "source": [
        "for m in genai.list_models():\n",
        "  if 'generateContent' in m.supported_generation_methods:\n",
        "    print(m.name)"
      ],
      "metadata": {
        "id": "NtIT7pNtkEwz",
        "colab": {
          "base_uri": "https://localhost:8080/",
          "height": 139
        },
        "outputId": "305961a4-7da4-487d-c3d9-53334c39e6a1"
      },
      "execution_count": 20,
      "outputs": [
        {
          "output_type": "stream",
          "name": "stdout",
          "text": [
            "models/gemini-1.0-pro\n",
            "models/gemini-1.0-pro-001\n",
            "models/gemini-1.0-pro-latest\n",
            "models/gemini-1.0-pro-vision-latest\n",
            "models/gemini-1.5-pro-latest\n",
            "models/gemini-pro\n",
            "models/gemini-pro-vision\n"
          ]
        }
      ]
    },
    {
      "cell_type": "markdown",
      "source": [
        "---\n",
        "\n",
        "Configurando os parâmetros de geração:\n",
        "*   Temperatura\n",
        "*   Top K\n",
        "*   Top P"
      ],
      "metadata": {
        "id": "B0kZ3rEPlenj"
      }
    },
    {
      "cell_type": "code",
      "source": [
        "generation_config = {\n",
        "  \"candidate_count\": 1,\n",
        "  \"temperature\": 0.9,\n",
        "  \"top_p\": 1,\n",
        "  \"top_k\": 0,\n",
        "#  \"max_output_tokens\": 2048,\n",
        "}"
      ],
      "metadata": {
        "id": "QIA8LGxrlwU9"
      },
      "execution_count": 21,
      "outputs": []
    },
    {
      "cell_type": "markdown",
      "source": [
        "---\n",
        "\n",
        "Configurando os parâmetros de segurança:\n",
        "*   Harassment\n",
        "*   Hate\n",
        "*   Sexually Explicit\n",
        "*   Dangerous Content"
      ],
      "metadata": {
        "id": "4vu9e7yxmn4R"
      }
    },
    {
      "cell_type": "code",
      "source": [
        "safety_settings = [\n",
        "  {\n",
        "    \"category\": \"HARM_CATEGORY_HARASSMENT\",\n",
        "    \"threshold\": \"BLOCK_MEDIUM_AND_ABOVE\"\n",
        "  },\n",
        "  {\n",
        "    \"category\": \"HARM_CATEGORY_HATE_SPEECH\",\n",
        "    \"threshold\": \"BLOCK_MEDIUM_AND_ABOVE\"\n",
        "  },\n",
        "  {\n",
        "    \"category\": \"HARM_CATEGORY_SEXUALLY_EXPLICIT\",\n",
        "    \"threshold\": \"BLOCK_MEDIUM_AND_ABOVE\"\n",
        "  },\n",
        "  {\n",
        "    \"category\": \"HARM_CATEGORY_DANGEROUS_CONTENT\",\n",
        "    \"threshold\": \"BLOCK_MEDIUM_AND_ABOVE\"\n",
        "  },\n",
        "]"
      ],
      "metadata": {
        "id": "2gMfNQ3DmrNc"
      },
      "execution_count": 22,
      "outputs": []
    },
    {
      "cell_type": "markdown",
      "source": [
        "---\n",
        "\n",
        "Inicializando o modelo"
      ],
      "metadata": {
        "id": "rO6lSAzBoEJP"
      }
    },
    {
      "cell_type": "code",
      "source": [
        "model = genai.GenerativeModel(model_name = 'gemini-1.0-pro',\n",
        "                              generation_config = generation_config,\n",
        "                              safety_settings = safety_settings)"
      ],
      "metadata": {
        "id": "tN7qa89JoIgj"
      },
      "execution_count": 23,
      "outputs": []
    },
    {
      "cell_type": "markdown",
      "source": [
        "\n",
        "---\n",
        "\n",
        "Enviando uma requisição para o modelo"
      ],
      "metadata": {
        "id": "_OptBMhKqa5s"
      }
    },
    {
      "cell_type": "code",
      "source": [
        "response = model.generate_content(\"Apresenta uma visão geral sobre suturas.\")\n",
        "print(response.text)"
      ],
      "metadata": {
        "id": "6axkvr31qgjA",
        "colab": {
          "base_uri": "https://localhost:8080/",
          "height": 731
        },
        "outputId": "ff994d3c-796f-4c18-8bcb-b59a08459c20"
      },
      "execution_count": 24,
      "outputs": [
        {
          "output_type": "stream",
          "name": "stdout",
          "text": [
            "**Suturas**\n",
            "\n",
            "As suturas são dispositivos médicos usados para fechar e aproximar bordas de tecidos, como pele, músculos e órgãos internos, após uma lesão ou cirurgia. Elas desempenham um papel crucial na cura de feridas, garantindo a força e a integridade dos tecidos reparados.\n",
            "\n",
            "**Tipos de Suturas**\n",
            "\n",
            "As suturas são classificadas em vários tipos com base em seu material, tamanho e método de aplicação:\n",
            "\n",
            "* **Materiais:**\n",
            "    * **Absorvíveis:** Dissolvidas pelo corpo ao longo do tempo (ex: ácido poliglicólico, poliglactina)\n",
            "    * **Não absorvíveis:** Permanententes e não são absorvidas pelo corpo (ex: seda, nylon, aço inoxidável)\n",
            "* **Tamanho:** Diâmetro expresso em unidades conhecidas como \"métricos\" (ex: 2-0, 3-0, 4-0)\n",
            "* **Métodos de Aplicação:**\n",
            "    * **Manuais:** Usando uma agulha e porta-agulhas\n",
            "    * **Mecânicas:** Usando dispositivos automatizados\n",
            "    * **Cutâneas:** Feitas através da pele sem perfurá-la (ex: suturas adesivas)\n",
            "\n",
            "**Indicações de Uso**\n",
            "\n",
            "As suturas são usadas em uma ampla gama de procedimentos cirúrgicos e de emergência, incluindo:\n",
            "\n",
            "* Fechamento de feridas na pele\n",
            "* Reparo de músculos e ligamentos\n",
            "* Anastomose de vasos sanguíneos\n",
            "* Suturas internas para órgãos como estômago e intestinos\n",
            "\n",
            "**Cuidados com as Suturas**\n",
            "\n",
            "Após a aplicação da sutura, é essencial cuidar adequadamente delas para promover a cicatrização e minimizar o risco de infecção. Isso inclui manter a ferida limpa e seca, evitar atividades extenuantes e monitorar sinais de infecção.\n",
            "\n",
            "**Remoção de Suturas**\n",
            "\n",
            "O momento da remoção da sutura depende do tipo de material usado e da localização da ferida. Em geral, as suturas absorvíveis não precisam ser removidas, enquanto as suturas não absorvíveis são removidas quando a ferida está cicatrizada o suficiente. A remoção é normalmente realizada por um profissional da saúde.\n",
            "\n",
            "**Benefícios das Suturas**\n",
            "\n",
            "* Aproximam bordas de tecidos para permitir a cicatrização\n",
            "* Fornecem força e suporte aos tecidos reparados\n",
            "* Reduzem a tensão na ferida, promovendo a circulação sanguínea\n",
            "* Ajudam a prevenir infecções mantendo a ferida fechada\n"
          ]
        }
      ]
    },
    {
      "cell_type": "markdown",
      "source": [
        "---\n",
        "\n",
        "Construindo um chatbot"
      ],
      "metadata": {
        "id": "RVKVrjA5rXCv"
      }
    },
    {
      "cell_type": "code",
      "source": [
        "chat = model.start_chat(history = [])\n",
        "\n",
        "prompt = input('...')\n",
        "while prompt != 'fim':\n",
        "\n",
        "  response = chat.send_message(prompt)\n",
        "  print(response.text)\n",
        "\n",
        "  prompt = input('...')"
      ],
      "metadata": {
        "id": "de8LkhhOrdZ0",
        "colab": {
          "base_uri": "https://localhost:8080/",
          "height": 523
        },
        "outputId": "0acc856b-4c3f-4b08-a8b9-0b8437f68fec"
      },
      "execution_count": 25,
      "outputs": [
        {
          "name": "stdout",
          "output_type": "stream",
          "text": [
            "...O que é criptografia de chave assimétrica?\n",
            "**Criptografia de Chave Assimétrica**\n",
            "\n",
            "A criptografia de chave assimétrica, também conhecida como criptografia de chave pública, é um sistema criptográfico que utiliza dois algoritmos: um para criptografar mensagens (chave pública) e outro para descriptografá-las (chave privada).\n",
            "\n",
            "**Como Funciona:**\n",
            "\n",
            "1. **Criação da Chave:** Um par de chaves é gerado, composto por uma chave pública e uma chave privada. A chave pública é distribuída amplamente, enquanto a chave privada é mantida em segredo.\n",
            "2. **Criptografia:** Uma mensagem é criptografada usando a chave pública do destinatário. Isso torna a mensagem ilegível para qualquer pessoa que não possua a chave privada correspondente.\n",
            "3. **Descriptografia:** Apenas o destinatário pode descriptografar a mensagem usando sua própria chave privada. Esta chave é capaz de reverter o processo de criptografia, tornando a mensagem legível novamente.\n",
            "\n",
            "**Características:**\n",
            "\n",
            "* **Segurança de Chave Pública:** As chaves públicas podem ser distribuídas abertamente sem comprometer a segurança.\n",
            "* **Confidencialidade:** Somente o destinatário com a chave privada correspondente pode descriptografar a mensagem.\n",
            "* **Autenticação:** A chave pública pode ser usada para verificar a identidade do remetente, pois apenas eles poderiam tê-la usado para criptografar a mensagem.\n",
            "* **Integridade:** Se uma mensagem for alterada, ela não poderá ser descriptografada com a chave privada, garantindo a integridade da mensagem.\n",
            "\n",
            "**Aplicações:**\n",
            "\n",
            "A criptografia de chave assimétrica é amplamente utilizada em:\n",
            "\n",
            "* Criptografia de e-mail (PGP, S/MIME)\n",
            "* Bancos online e pagamentos\n",
            "* Transmissões seguras de dados\n",
            "* Assinaturas digitais\n",
            "* Certificados SSL/TLS\n",
            "...fim\n"
          ]
        }
      ]
    }
  ]
}